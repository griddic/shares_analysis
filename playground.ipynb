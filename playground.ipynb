{
 "cells": [
  {
   "cell_type": "code",
   "execution_count": 17,
   "metadata": {
    "collapsed": true
   },
   "outputs": [],
   "source": [
    "import numpy\n",
    "import pandas\n",
    "\n",
    "from metrics import incom_not_weighted\n",
    "import matplotlib.pyplot as plt\n",
    "\n",
    "df = pandas.read_csv(\"resources/multipliers_to_cost_increase.csv\")\n",
    "df.fillna(0, inplace=True)\n",
    "columns = [\"P/E\", \"E/P\", \"P/B\", \"P/S\", \"P/CF\", \"L/A\", \"NetDebt / EBITDA\", \"EV / EBITDA\", \"ROA\", \"ROE\", \"ROS\", \"delta\"]\n"
   ]
  },
  {
   "cell_type": "code",
   "execution_count": 14,
   "metadata": {},
   "outputs": [],
   "source": [
    "la = df['L/A']\n",
    "delta = df['delta']"
   ]
  },
  {
   "cell_type": "code",
   "execution_count": 6,
   "metadata": {},
   "outputs": [
    {
     "data": {
      "text/plain": [
       "(12.275260416666669, 23.635151121120753)"
      ]
     },
     "execution_count": 6,
     "metadata": {},
     "output_type": "execute_result"
    }
   ],
   "source": [
    "df['ROE'].mean(), df['ROE'].std()"
   ]
  },
  {
   "cell_type": "code",
   "execution_count": 8,
   "metadata": {},
   "outputs": [
    {
     "name": "stdout",
     "output_type": "stream",
     "text": [
      "P/E\n-173 215\nE/P\n-119 117\nP/B\n-37 39\nP/S\n-3 5\nP/CF\n-73 79\nL/A\n3 123\nNetDebt / EBITDA\n-3 5\nEV / EBITDA\n-8 16\nROA\n-6 18\nROE\n-34 58\nROS\n-42 58\ndelta\n-67 97\n"
     ]
    }
   ],
   "source": [
    "for c in columns:\n",
    "    print(c)\n",
    "    m, d = df[c].mean(), df[c].std()\n",
    "        m, d = int(m), int(d)\n",
    "    print(m - 2*d, m+2*d)"
   ]
  },
  {
   "cell_type": "code",
   "execution_count": 11,
   "metadata": {},
   "outputs": [
    {
     "data": {
      "text/plain": [
       "(8.72, 177.61)"
      ]
     },
     "execution_count": 11,
     "metadata": {},
     "output_type": "execute_result"
    }
   ],
   "source": [
    "la = \"L/A\"\n",
    "la = df[la]\n",
    "la.min(), la.max()"
   ]
  },
  {
   "cell_type": "code",
   "execution_count": 19,
   "metadata": {},
   "outputs": [],
   "source": [
    "la_to_inc = []\n",
    "for th in range(0, 170, 10):\n",
    "    la_to_inc.append((th, incom_not_weighted(delta, la, th)))"
   ]
  },
  {
   "cell_type": "code",
   "execution_count": 20,
   "metadata": {},
   "outputs": [
    {
     "data": {
      "image/png": "[encoded data removed]",
      "text/plain": [
       "<Figure size 432x288 with 1 Axes>"
      ]
     },
     "metadata": {},
     "output_type": "display_data"
    }
   ],
   "source": [
    "plt.scatter([x[0] for x in la_to_inc], [x[1] for x in la_to_inc])\n",
    "plt.show()"
   ]
  },
  {
   "cell_type": "code",
   "execution_count": 23,
   "metadata": {
    "collapsed": true
   },
   "outputs": [
    {
     "data": {
      "text/plain": [
       "93       0.000000\n96      -0.821977\n97      -4.198473\n104    122.337662\n105    131.892523\n140      9.560290\n153    -13.625304\n154    148.644366\n155     -7.668342\n156    -31.441718\n157      0.000000\n158      0.000000\n159     -0.479339\nName: delta, dtype: float64"
      ]
     },
     "execution_count": 23,
     "metadata": {},
     "output_type": "execute_result"
    }
   ],
   "source": [
    "delta[la > 100]"
   ]
  },
  {
   "cell_type": "code",
   "execution_count": null,
   "metadata": {},
   "outputs": [],
   "source": []
  }
 ],
 "metadata": {
  "kernelspec": {
   "display_name": "Python 2",
   "language": "python",
   "name": "python2"
  },
  "language_info": {
   "codemirror_mode": {
    "name": "ipython",
    "version": 2
   },
   "file_extension": ".py",
   "mimetype": "text/x-python",
   "name": "python",
   "nbconvert_exporter": "python",
   "pygments_lexer": "ipython2",
   "version": "2.7.6"
  }
 },
 "nbformat": 4,
 "nbformat_minor": 0
}
