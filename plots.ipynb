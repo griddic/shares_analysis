{
 "cells": [
  {
   "cell_type": "code",
   "execution_count": 1,
   "metadata": {
    "collapsed": true
   },
   "outputs": [],
   "source": [
    "import numpy\n",
    "import pandas\n",
    "\n",
    "from metrics import incom_not_weighted, income_by_filter\n",
    "import matplotlib.pyplot as plt\n",
    "\n",
    "from process import load_data\n",
    "from transformator import Multiplier, transformators\n",
    "\n",
    "df = load_data()\n",
    "columns = [\"P/E\", \"E/P\", \"P/B\", \"P/S\", \"P/CF\", \"L/A\", \"NetDebt / EBITDA\", \"EV / EBITDA\", \"ROA\", \"ROE\", \"ROS\", \"delta\"]\n",
    "M = Multiplier\n",
    "delta = df['delta']"
   ]
  },
  {
   "cell_type": "code",
   "execution_count": null,
   "metadata": {},
   "outputs": [],
   "source": [
    "\n",
    "def p_to_e_atomic_transformator(x):\n",
    "    if x < 0:\n",
    "        return 0\n",
    "    if x > 33:\n",
    "        return 0\n",
    "    l = (34 - x) * 3\n",
    "    return (l/100.)**4*100\n",
    "\n",
    "def e_to_p_atomic_transformator(x):\n",
    "    if x < 0:\n",
    "        return 0\n",
    "    return x\n",
    "\n",
    "def p_to_b_atomic_transformator(x):\n",
    "    if x < 0:\n",
    "        return 0\n",
    "    l = (5-x) * 20\n",
    "    l = max(l,0)\n",
    "    return (l / 100.)**3*100\n",
    "\n",
    "def p_to_s_atomic_transformator(x):\n",
    "    if x < 0:\n",
    "        return 0\n",
    "    if x > 5:\n",
    "        return 0\n",
    "    l = (5 - x) * 20\n",
    "    return (l/100.)**3*100\n",
    "\n",
    "def p_to_cf_atomic_transformator(x):\n",
    "    if x < 0:\n",
    "        return 0\n",
    "    if x > 30:\n",
    "        return 0\n",
    "    l = (30 - x) * 3.\n",
    "    return (l/100)**1.5*100\n",
    "\n",
    "def l_to_a_atomic_transformator(x):\n",
    "    if x < 0:\n",
    "        return 0\n",
    "    if x > 100:\n",
    "        return 0\n",
    "    l = (100 - x) * 1.\n",
    "    return (l/100)**1*100\n",
    "\n",
    "def net_debt_to_ebitda_atomic_transformator(x):\n",
    "    if x < 0:\n",
    "        return 0\n",
    "    if x > 5:\n",
    "        return 0\n",
    "    l = (5 - x) * 20.\n",
    "    return (l/100)**3*100\n",
    "\n",
    "def ev_to_ebitda_atomic_transformator(x):\n",
    "    if x < 0:\n",
    "        return 0\n",
    "    if x > 33:\n",
    "        return 0\n",
    "    l = (34 - x) * 3\n",
    "    return (l/100.)**4*100\n",
    "\n",
    "def roa_atomic_transformator(x):\n",
    "    return x\n",
    "\n",
    "def roe_atomic_transformator(x):\n",
    "    return x\n",
    "\n",
    "def ros_atomis_transformator(x):\n",
    "    return x\n",
    "\n",
    "class Mult:\n",
    "    p_to_e = \"P/E\"\n",
    "    e_to_p = \"E/P\"\n",
    "    \n"
   ]
  },
  {
   "cell_type": "code",
   "execution_count": 4,
   "metadata": {},
   "outputs": [
    {
     "data": {
      "text/plain": [
       "9.593654126261676"
      ]
     },
     "execution_count": 4,
     "metadata": {},
     "output_type": "execute_result"
    }
   ],
   "source": [
    "from scipy.stats import gmean\n",
    "\n",
    "(gmean((delta / 100) + 1) -1 ) * 100"
   ]
  },
  {
   "cell_type": "code",
   "execution_count": 10,
   "metadata": {},
   "outputs": [
    {
     "data": {
      "image/png": "[encoded data removed]",
      "text/plain": [
       "<Figure size 432x288 with 1 Axes>"
      ]
     },
     "metadata": {},
     "output_type": "display_data"
    }
   ],
   "source": [
    "pe_original = df[M.p_to_e].tolist()\n",
    "pe_original = [x for x in pe_original if x > -5 and x < 20]\n",
    "def atomic_transformator(x):\n",
    "    if x < 0:\n",
    "        return 0\n",
    "    if x > 33:\n",
    "        return 0\n",
    "    l = (34 - x) * 3\n",
    "    return (l/100.)**4*100\n",
    "pe_transformed = [atomic_transformator(x) for x in pe_original]\n",
    "plt.scatter(pe_original, pe_transformed)\n",
    "plt.grid()\n",
    "plt.show()"
   ]
  },
  {
   "cell_type": "code",
   "execution_count": 2,
   "metadata": {},
   "outputs": [
    {
     "data": {
      "image/png": "[encoded data removed]",
      "text/plain": [
       "<Figure size 432x288 with 1 Axes>"
      ]
     },
     "metadata": {},
     "output_type": "display_data"
    }
   ],
   "source": [
    "pe_original = df[M.p_to_b].tolist()\n",
    "pe_original = [x for x in pe_original if x > -5 and x < 20]\n",
    "atomic_transformator = transformators[M.p_to_b]\n",
    "pe_transformed = [atomic_transformator(x) for x in pe_original]\n",
    "plt.scatter(pe_original, pe_transformed)\n",
    "plt.grid()\n",
    "plt.show()"
   ]
  },
  {
   "cell_type": "code",
   "execution_count": 2,
   "metadata": {},
   "outputs": [],
   "source": [
    "delta = df['delta']"
   ]
  },
  {
   "cell_type": "code",
   "execution_count": 3,
   "metadata": {},
   "outputs": [
    {
     "data": {
      "text/plain": [
       "'P/E'"
      ]
     },
     "execution_count": 3,
     "metadata": {},
     "output_type": "execute_result"
    }
   ],
   "source": [
    "c = columns[0]\n",
    "c"
   ]
  },
  {
   "cell_type": "code",
   "execution_count": 4,
   "metadata": {},
   "outputs": [],
   "source": [
    "def pe_filter_creator(pe):\n",
    "    def actual_filter(x):\n",
    "        if x < 0:\n",
    "            return False\n",
    "        return x < pe\n",
    "    return actual_filter\n",
    "    \n",
    "pe_to_inc = []\n",
    "for pe in range(20,0,-1):\n",
    "    pe_to_inc.append((pe, income_by_filter(delta, df[c], pe_filter_creator(pe))))"
   ]
  },
  {
   "cell_type": "code",
   "execution_count": 5,
   "metadata": {},
   "outputs": [
    {
     "data": {
      "image/png": "[encoded data removed]",
      "text/plain": [
       "<Figure size 432x288 with 1 Axes>"
      ]
     },
     "metadata": {},
     "output_type": "display_data"
    }
   ],
   "source": [
    "x, y = numpy.array(pe_to_inc).T\n",
    "plt.scatter(x, y)\n",
    "plt.show()"
   ]
  },
  {
   "cell_type": "code",
   "execution_count": 6,
   "metadata": {},
   "outputs": [
    {
     "data": {
      "text/plain": [
       "'E/P'"
      ]
     },
     "execution_count": 6,
     "metadata": {},
     "output_type": "execute_result"
    }
   ],
   "source": [
    "c = columns[1]\n",
    "c"
   ]
  },
  {
   "cell_type": "code",
   "execution_count": 7,
   "metadata": {},
   "outputs": [],
   "source": [
    "def ep_filter_creator(ep):\n",
    "    def actual_filter(x):\n",
    "        return x > ep\n",
    "    return actual_filter\n",
    "    \n",
    "ep_to_inc = []\n",
    "for ep in range(0,55,5):\n",
    "    ep_to_inc.append((ep, income_by_filter(delta, df[c], ep_filter_creator(ep))))"
   ]
  },
  {
   "cell_type": "code",
   "execution_count": 8,
   "metadata": {},
   "outputs": [
    {
     "data": {
      "image/png": "[encoded data removed]",
      "text/plain": [
       "<Figure size 432x288 with 1 Axes>"
      ]
     },
     "metadata": {},
     "output_type": "display_data"
    }
   ],
   "source": [
    "x, y = numpy.array(ep_to_inc).T\n",
    "plt.scatter(x, y)\n",
    "plt.show()"
   ]
  },
  {
   "cell_type": "code",
   "execution_count": 9,
   "metadata": {},
   "outputs": [
    {
     "data": {
      "text/plain": [
       "'P/B'"
      ]
     },
     "execution_count": 9,
     "metadata": {},
     "output_type": "execute_result"
    }
   ],
   "source": [
    "c = columns[2]\n",
    "c"
   ]
  },
  {
   "cell_type": "code",
   "execution_count": 16,
   "metadata": {},
   "outputs": [],
   "source": [
    "def pb_filter_creator(pb):\n",
    "    def actual_filter(x):\n",
    "        if x < 0:\n",
    "            return False\n",
    "        return x < pb\n",
    "    return actual_filter\n",
    "    \n",
    "pb_to_inc = []\n",
    "for pb in range(20,0,-1):\n",
    "    pb_to_inc.append((pb, income_by_filter(delta, df[c], pe_filter_creator(pb))))"
   ]
  },
  {
   "cell_type": "code",
   "execution_count": 17,
   "metadata": {},
   "outputs": [
    {
     "data": {
      "image/png": "[encoded data removed]",
      "text/plain": [
       "<Figure size 432x288 with 1 Axes>"
      ]
     },
     "metadata": {},
     "output_type": "display_data"
    }
   ],
   "source": [
    "x, y = numpy.array(pb_to_inc).T\n",
    "plt.scatter(x, y)\n",
    "plt.show()"
   ]
  },
  {
   "cell_type": "code",
   "execution_count": null,
   "metadata": {},
   "outputs": [],
   "source": []
  }
 ],
 "metadata": {
  "kernelspec": {
   "display_name": "Python 2",
   "language": "python",
   "name": "python2"
  },
  "language_info": {
   "codemirror_mode": {
    "name": "ipython",
    "version": 2
   },
   "file_extension": ".py",
   "mimetype": "text/x-python",
   "name": "python",
   "nbconvert_exporter": "python",
   "pygments_lexer": "ipython2",
   "version": "2.7.6"
  }
 },
 "nbformat": 4,
 "nbformat_minor": 0
}
